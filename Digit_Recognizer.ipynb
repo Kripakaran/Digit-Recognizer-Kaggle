{
 "cells": [
  {
   "cell_type": "markdown",
   "metadata": {
    "_cell_guid": "b8f23803-f7c9-c890-22dd-eab6672e749c",
    "_uuid": "e21b5c3fbebcb72279a6794d6463967674776aa9"
   },
   "source": [
    "## Convolutional Neural Networks\n",
    "If you want to apply machine learning to image recognition, convolutional neural networks (CNN) is the way to go. It has been sweeping the board in competitions for the last several years, but perhaps its first big success came in the late 90's when [Yann LeCun][1] used it to solve MNIST with 99.5% accuracy. I will show you how it is done in Keras, which is a user-friendly neural network library for python.\n",
    "\n"
   ]
  },
  {
   "cell_type": "code",
   "execution_count": null,
   "metadata": {
    "_cell_guid": "19d8eb6b-9b71-029c-06e1-7e74975ae669",
    "_uuid": "85486466390d5bba2ff50b31b9bcbde569c56d3d"
   },
   "outputs": [],
   "source": [
    "import numpy as np # linear algebra\n",
    "import matplotlib.pyplot as plt\n",
    "%matplotlib inline\n",
    "from sklearn.model_selection import train_test_split\n",
    "from sklearn.metrics import confusion_matrix"
   ]
  },
  {
   "cell_type": "markdown",
   "metadata": {
    "_cell_guid": "8e18fecf-bc7e-dd8d-0894-2601c3f69e97",
    "_uuid": "b5c3731fee5eaebb70019ebf49aab24d402e4f32"
   },
   "source": [
    "If you don't already have [Keras][1], you can easily install it through conda or pip. It relies on either tensorflow or theano, so you should have these installed first. Keras is already available here in the kernel and on Amazon deep learning AMI.\n",
    "\n",
    "  [1]: https://keras.io/"
   ]
  },
  {
   "cell_type": "code",
   "execution_count": null,
   "metadata": {
    "_cell_guid": "76adcf6f-d109-e47d-d8f0-c7a26e986df5",
    "_uuid": "81a1a40b97bad9fa8e7bd63ccc9ce8d12f76dd74"
   },
   "outputs": [],
   "source": [
    "from keras.utils.np_utils import to_categorical # convert to one-hot-encoding\n",
    "from keras.models import Sequential\n",
    "from keras.layers import Dense, Dropout, Flatten, Conv2D, MaxPool2D, BatchNormalization\n",
    "from keras.optimizers import Adam\n",
    "from keras.preprocessing.image import ImageDataGenerator\n",
    "from keras.callbacks import LearningRateScheduler"
   ]
  },
  {
   "cell_type": "code",
   "execution_count": null,
   "metadata": {
    "_cell_guid": "249daad0-7a0d-ad43-2bf9-4861ffac0d90",
    "_uuid": "65dd00b9f4158176ae25a9a674ea56b898669d81"
   },
   "outputs": [],
   "source": [
    "train_file = \"../input/train.csv\"\n",
    "test_file = \"../input/test.csv\"\n",
    "output_file = \"submission.csv\""
   ]
  },
  {
   "cell_type": "markdown",
   "metadata": {
    "_cell_guid": "b3a8472f-d3a1-949d-3bb4-2935b53c4f17",
    "_uuid": "a184f368f4f856d3df70349bcd76cb3ab6a73748"
   },
   "source": [
    "## Load the data"
   ]
  },
  {
   "cell_type": "markdown",
   "metadata": {
    "_cell_guid": "fc8110b9-1087-2221-1399-6d218a494319",
    "_uuid": "06149127dbfe30d76f4dd64df0de9bb2291b75ac"
   },
   "source": [
    "As always, we split the data into a training set and a validation set, so that we can evaluate the performance of our model."
   ]
  },
  {
   "cell_type": "code",
   "execution_count": null,
   "metadata": {
    "_cell_guid": "95cd483d-23ae-fa98-3823-724e41ed4b5b",
    "_uuid": "15700adcbceb8a45b53c88c5ead2651acf20805b"
   },
   "outputs": [],
   "source": [
    "raw_data = np.loadtxt(train_file, skiprows=1, dtype='int', delimiter=',')\n",
    "x_train, x_val, y_train, y_val = train_test_split(\n",
    "    raw_data[:,1:], raw_data[:,0], test_size=0.1)"
   ]
  },
  {
   "cell_type": "markdown",
   "metadata": {
    "_cell_guid": "ffbcd0ae-c1a0-b52c-ea4e-5c691e893333",
    "_uuid": "3a34fc239a597c9a084d288a1e0d9c4ffa60f9a2"
   },
   "source": [
    "Each data point consists of 784 values. A fully connected net just treats all these values the same, but a CNN treats it as a 28x28 square. Thes two graphs explain the difference: It's easy to understand why a CNN can get better results."
   ]
  },
  {
   "cell_type": "code",
   "execution_count": null,
   "metadata": {
    "_cell_guid": "77036419-61ff-a6a5-6b67-fa39f1147d11",
    "_uuid": "f8a926e638b858614d15fc972e190a34cb994c5b"
   },
   "outputs": [],
   "source": [
    "fig, ax = plt.subplots(2, 1, figsize=(12,6))\n",
    "ax[0].plot(x_train[0])\n",
    "ax[0].set_title('784x1 data')\n",
    "ax[1].imshow(x_train[0].reshape(28,28), cmap='gray')\n",
    "ax[1].set_title('28x28 data')"
   ]
  },
  {
   "cell_type": "markdown",
   "metadata": {
    "_cell_guid": "dcee4998-a863-3dd9-57f9-0bde1b2f5099",
    "_uuid": "1e47c137b85ac9bb69b2f607c00e4b6c504a84a1"
   },
   "source": [
    "We now reshape all data this way. Keras wants an extra dimension in the end, for channels. If this had been RGB images, there would have been 3 channels, but as MNIST is gray scale it only uses one.\n",
    "\n",
    "This notebook is written for the tensorflow channel ordering. If you have Keras installed for Theano backend, you might start seeing some error message soon related to channel ordering. This can easily be [solved][1].\n",
    "\n",
    "\n",
    "  [1]: https://keras.io/backend/#set_image_dim_ordering"
   ]
  },
  {
   "cell_type": "code",
   "execution_count": null,
   "metadata": {
    "_cell_guid": "c32f7260-7973-31a4-3991-1bbac6c36b47",
    "_uuid": "b2f6cf272adcddb060b90e45129e5274c3e338e0"
   },
   "outputs": [],
   "source": [
    "x_train = x_train.reshape(-1, 28, 28, 1)\n",
    "x_val = x_val.reshape(-1, 28, 28, 1)"
   ]
  },
  {
   "cell_type": "markdown",
   "metadata": {
    "_cell_guid": "a9604fb0-79b2-eba6-92c3-b1b2b2d59a03",
    "_uuid": "127966f1b7fece1923206b39b5c02bfd576b6b18"
   },
   "source": [
    "It would be possible to train the net on the original data, with pixel values 0 to 255. If we use the standard initialization methods for weights, however, data between 0 and 1 should make the net converge faster. "
   ]
  },
  {
   "cell_type": "code",
   "execution_count": null,
   "metadata": {
    "_cell_guid": "c291c473-5e0e-a947-bea6-22d5feb81797",
    "_uuid": "f66b5361bd7fe36a7a52e3902e4ac0ab96f6ef64"
   },
   "outputs": [],
   "source": [
    "x_train = x_train.astype(\"float32\")/255.\n",
    "x_val = x_val.astype(\"float32\")/255."
   ]
  },
  {
   "cell_type": "markdown",
   "metadata": {
    "_cell_guid": "7a60023f-8844-a721-0ff9-39dfd82e0dd5",
    "_uuid": "563c2576d491b093c569c044495e68082ab5483e"
   },
   "source": [
    "The labels were given as integers between 0 and 9. We need to convert these to one-hot encoding, i.e. a 10x1 array with one 1 and nine 0:s, with the position of the 1 showing us the value. See the example, with the position of the 1 showing the correct value for the digit in the graph above."
   ]
  },
  {
   "cell_type": "code",
   "execution_count": null,
   "metadata": {
    "_cell_guid": "fdc43c64-0655-e91d-0659-ceb97a6f3532",
    "_uuid": "f29e2eb47c2629328158357f2af94712fab6d55c"
   },
   "outputs": [],
   "source": [
    "y_train = to_categorical(y_train)\n",
    "y_val = to_categorical(y_val)\n",
    "#example:\n",
    "print(y_train[0])"
   ]
  },
  {
   "cell_type": "markdown",
   "metadata": {
    "_cell_guid": "71f04810-96c8-bc4d-1938-381e2e4b4ec8",
    "_uuid": "d2b12884d127243da28e95fd60575243b89c2cb0"
   },
   "source": [
    "## Train the model\n",
    "\n",
    "Keras offers two different ways of defining a network. We will the Sequential API, where you just add on one layer at a time, starting from the input.\n",
    "\n",
    "The most important part are the convolutional layers Conv2D. Here they have 16-32 filters that use nine weights each to transform a pixel to a weighted average of itself and its eight neighbors. As the same nine weights are used over the whole image, the net will pick up features that are useful everywhere. As it is only nine weights, we can stack many convolutional layers on top of each other without running out of memory/time. \n",
    "\n",
    "The MaxPooling layers just look at four neighboring pixels and picks the maximal value. This reduces the size of the image by half, and by combining convolutional and pooling layers, the net be able to combine its features to learn more global features of the image. In the end we use the features in two fully-connected (Dense) layers.\n",
    "\n",
    "Batch Normalization is a technical trick to make training faster. Dropout is a regularization method, where the layer randomly replaces  a proportion of its weights to zero for each training sample. This forces the net to learn features in a distributed way, not relying to much on a particular weight, and therefore improves generalization. 'relu' is the activation function x -> max(x,0)."
   ]
  },
  {
   "cell_type": "code",
   "execution_count": null,
   "metadata": {
    "_cell_guid": "363e8bc8-a731-01da-9a39-d3914ea7a5c8",
    "_uuid": "f772a8f731d5fb6e15a3e207c5aa85d9dc797d17"
   },
   "outputs": [],
   "source": [
    "model = Sequential()\n",
    "\n",
    "model.add(Conv2D(filters = 16, kernel_size = (3, 3), activation='relu',\n",
    "                 input_shape = (28, 28, 1)))\n",
    "model.add(BatchNormalization())\n",
    "model.add(Conv2D(filters = 16, kernel_size = (3, 3), activation='relu'))\n",
    "model.add(BatchNormalization())\n",
    "#model.add(Conv2D(filters = 16, kernel_size = (3, 3), activation='relu'))\n",
    "#model.add(BatchNormalization())\n",
    "model.add(MaxPool2D(strides=(2,2)))\n",
    "model.add(Dropout(0.25))\n",
    "\n",
    "model.add(Conv2D(filters = 32, kernel_size = (3, 3), activation='relu'))\n",
    "model.add(BatchNormalization())\n",
    "model.add(Conv2D(filters = 32, kernel_size = (3, 3), activation='relu'))\n",
    "model.add(BatchNormalization())\n",
    "#model.add(Conv2D(filters = 32, kernel_size = (3, 3), activation='relu'))\n",
    "#model.add(BatchNormalization())\n",
    "model.add(MaxPool2D(strides=(2,2)))\n",
    "model.add(Dropout(0.25))\n",
    "\n",
    "model.add(Flatten())\n",
    "model.add(Dense(512, activation='relu'))\n",
    "model.add(Dropout(0.25))\n",
    "model.add(Dense(1024, activation='relu'))\n",
    "model.add(Dropout(0.5))\n",
    "model.add(Dense(10, activation='softmax'))"
   ]
  },
  {
   "cell_type": "markdown",
   "metadata": {
    "_cell_guid": "bb0658c9-59f1-5336-9e5d-abcd82010238",
    "_uuid": "30a8449bba5b95a8ea66f3d539cc0a712186b514"
   },
   "source": [
    "Another important method to improve generalization is augmentation. This means generating more training data by randomly perturbing the images. If done in the right way, it can force the net to only learn translation-invariant features. If you train this model over hundreds of epochs, augmentation will definitely improve your performance. Here in the Kernel, we will only look at each image 4-5 times, so the difference is smaller. We use a Keras function for augmentation."
   ]
  },
  {
   "cell_type": "code",
   "execution_count": null,
   "metadata": {
    "_cell_guid": "c34d0682-2777-382d-ab1c-fa0186fc0ae7",
    "_uuid": "fe19ce0254a94883d9aa7c78a96db27516354ed7"
   },
   "outputs": [],
   "source": [
    "datagen = ImageDataGenerator(zoom_range = 0.1,\n",
    "                            height_shift_range = 0.1,\n",
    "                            width_shift_range = 0.1,\n",
    "                            rotation_range = 10)"
   ]
  },
  {
   "cell_type": "markdown",
   "metadata": {
    "_cell_guid": "21ab56fa-c6fb-830a-47d3-3bc40c447ec9",
    "_uuid": "82fb0595dfd05b637199de09462d390fcef17d53"
   },
   "source": [
    "The model needs to be compiled before training can start. As our loss function, we use logloss which is called ''categorical_crossentropy\" in Keras. Metrics is only used for evaluation. As optimizer, we could have used ordinary stochastic gradient descent (SGD), but Adam is faster."
   ]
  },
  {
   "cell_type": "code",
   "execution_count": null,
   "metadata": {
    "_cell_guid": "d0acbcf9-0be3-712f-222d-58e6670dac58",
    "_uuid": "3381e3ea025c49b4df86492f2f9895ce46e9fe0c"
   },
   "outputs": [],
   "source": [
    "model.compile(loss='categorical_crossentropy', optimizer = Adam(lr=1e-4), metrics=[\"accuracy\"])"
   ]
  },
  {
   "cell_type": "markdown",
   "metadata": {
    "_cell_guid": "f8c4ffdf-abb0-7c28-b10b-16c5714b92d0",
    "_uuid": "0e04709ac1b0f22d5a4a91b5c17e66057e6f8dd4"
   },
   "source": [
    "We train once with a smaller learning rate to ensure convergence. We then speed things up, only to reduce the learning rate by 10% every epoch. Keras has a function for this: "
   ]
  },
  {
   "cell_type": "code",
   "execution_count": null,
   "metadata": {
    "_cell_guid": "856a2d69-b0eb-6962-5323-fd2819d0be24",
    "_uuid": "46f214f176322e0848684957dbe5ab30a22ab96d"
   },
   "outputs": [],
   "source": [
    "annealer = LearningRateScheduler(lambda x: 1e-3 * 0.9 ** x)"
   ]
  },
  {
   "cell_type": "markdown",
   "metadata": {
    "_cell_guid": "e87ab385-9290-9b87-3b78-716188a140cc",
    "_uuid": "6574bb701e643e3332fe19f3b4700e3fe61d0bb0"
   },
   "source": [
    "We will use a very small validation set during training to save time in the kernel."
   ]
  },
  {
   "cell_type": "code",
   "execution_count": null,
   "metadata": {
    "_cell_guid": "b8d960a3-09ed-0802-2b23-4ed583f7492b",
    "_uuid": "8dc48644e239f19c0ae18cc653c96c7f85fc98c9"
   },
   "outputs": [],
   "source": [
    "hist = model.fit_generator(datagen.flow(x_train, y_train, batch_size=16),\n",
    "                           steps_per_epoch=500,\n",
    "                           epochs=20, #Increase this when not on Kaggle kernel\n",
    "                           verbose=2,  #1 for ETA, 0 for silent\n",
    "                           validation_data=(x_val[:400,:], y_val[:400,:]), #For speed\n",
    "                           callbacks=[annealer])"
   ]
  },
  {
   "cell_type": "markdown",
   "metadata": {
    "_cell_guid": "9ceb04e7-b196-b2ca-ce2b-abcdc8870bcc",
    "_uuid": "659fb9b3b1b6ccf9aaefeb86377d5f9373713091"
   },
   "source": [
    "## Evaluate"
   ]
  },
  {
   "cell_type": "markdown",
   "metadata": {
    "_cell_guid": "c64f7ec3-6af5-d3e6-e0e4-21f8e29d969c",
    "_uuid": "be1bb43656cde9bd71644e628cca4b06a658af52"
   },
   "source": [
    "We only used a subset of the validation set during training, to save time. Now let's check performance on the whole validation set."
   ]
  },
  {
   "cell_type": "code",
   "execution_count": null,
   "metadata": {
    "_cell_guid": "d3a2a555-ef78-1cce-3971-0ea4f7bb0c1d",
    "_uuid": "926dd49bc3a203b0d46cfb7ccc5821d3fa795784"
   },
   "outputs": [],
   "source": [
    "final_loss, final_acc = model.evaluate(x_val, y_val, verbose=0)\n",
    "print(\"Final loss: {0:.4f}, final accuracy: {1:.4f}\".format(final_loss, final_acc))"
   ]
  },
  {
   "cell_type": "code",
   "execution_count": null,
   "metadata": {
    "_cell_guid": "49fd9696-826d-f95c-3fe6-94fe4d1f0a6c",
    "_uuid": "2acdb827213bef0e295072dee8b447fe7f41db74"
   },
   "outputs": [],
   "source": [
    "plt.plot(hist.history['loss'], color='b')\n",
    "plt.plot(hist.history['val_loss'], color='r')\n",
    "plt.show()\n",
    "plt.plot(hist.history['acc'], color='b')\n",
    "plt.plot(hist.history['val_acc'], color='r')\n",
    "plt.show()"
   ]
  },
  {
   "cell_type": "code",
   "execution_count": null,
   "metadata": {
    "_cell_guid": "0783efce-d6b9-6d98-3824-0b45260a0f23",
    "_uuid": "26b8eec7162eb9c959c4060ce0d973976fcdf4cc"
   },
   "outputs": [],
   "source": [
    "y_hat = model.predict(x_val)\n",
    "y_pred = np.argmax(y_hat, axis=1)\n",
    "y_true = np.argmax(y_val, axis=1)\n",
    "cm = confusion_matrix(y_true, y_pred)\n",
    "print(cm)"
   ]
  },
  {
   "cell_type": "markdown",
   "metadata": {
    "_cell_guid": "5375f3d0-51fd-7199-4109-b32bcb4a4e63",
    "_uuid": "fe811dd891776de7ff3bc6c04379e931503a5437"
   },
   "source": [
    "Not too bad, considering the minimal amount of training so far. In fact, we have only gone through the training data approximately five times. With proper training we should get really good results.\n",
    "\n",
    "As you can see there are quite a few parameters that could be tweaked (number of layers, number of filters, Dropout parameters, learning rate, augmentation settings). This is often done with trial and error, and there is no easy shortcut. \n",
    "\n",
    "Getting convergence should not be a problem, unless you use an extremely large learning rate. It's easy, however, to create a net that overfits, with perfect results on the training set and very poor results on the validation data. If this happens, you could try increasing the Dropout parameters, increase augmentation, or perhaps stop training earlier. If you instead wants to increase accuracy, try adding on two more layers, or increase the number of filters."
   ]
  },
  {
   "cell_type": "markdown",
   "metadata": {
    "_cell_guid": "0bd63110-f8f6-6f39-3225-c2f941184f3b",
    "_uuid": "4f7cc407a9071ffd005e9e47e4fa1090f04172f8"
   },
   "source": [
    "## Submit"
   ]
  },
  {
   "cell_type": "markdown",
   "metadata": {
    "_cell_guid": "86d7a441-e1c9-9ad0-f305-25d0dcedaaee",
    "_uuid": "04bc234b6dfab5c5d430224b19401e08f40f33fe"
   },
   "source": [
    "To easily get to the top half of the leaderboard, just follow these steps, go to the Kernel's output, and submit \"submission.csv\""
   ]
  },
  {
   "cell_type": "code",
   "execution_count": null,
   "metadata": {
    "_cell_guid": "002ce4ad-9a8f-8a1e-c658-40f9c371f91d",
    "_uuid": "cd7bbf7c59e3d0bcc2ee714918e6129ace1c2c77"
   },
   "outputs": [],
   "source": [
    "mnist_testset = np.loadtxt(test_file, skiprows=1, dtype='int', delimiter=',')\n",
    "x_test = mnist_testset.astype(\"float32\")\n",
    "x_test = x_test.reshape(-1, 28, 28, 1)/255."
   ]
  },
  {
   "cell_type": "code",
   "execution_count": null,
   "metadata": {
    "_cell_guid": "7413800d-21c3-654f-8b39-27e3df9c4391",
    "_uuid": "dd572570955e30d1f6e781f1a4a364e7c44f5327"
   },
   "outputs": [],
   "source": [
    "y_hat = model.predict(x_test, batch_size=64)"
   ]
  },
  {
   "cell_type": "markdown",
   "metadata": {
    "_cell_guid": "074aabf5-4a9a-bfdb-cbdd-0a8f06dc5fae",
    "_uuid": "6d44f06c9f4de99e013d172b3a81f3513bf0d546"
   },
   "source": [
    "y_hat consists of class probabilities (corresponding to the one-hot encoding of the training labels). I now select the class with highest probability"
   ]
  },
  {
   "cell_type": "code",
   "execution_count": null,
   "metadata": {
    "_cell_guid": "575d9348-99ec-9b8c-f5a5-ceac44c5308d",
    "_uuid": "98d7eb1adc5abaf845c420dd9cadf034c82f2ff6"
   },
   "outputs": [],
   "source": [
    "y_pred = np.argmax(y_hat,axis=1)"
   ]
  },
  {
   "cell_type": "code",
   "execution_count": null,
   "metadata": {
    "_cell_guid": "cbf31eb1-2ffd-efb5-e2b2-b4dda99fa1da",
    "_uuid": "0d27c0fdcccd719eb2cd6abb8bada8cd7f42ea1b"
   },
   "outputs": [],
   "source": [
    "with open(output_file, 'w') as f :\n",
    "    f.write('ImageId,Label\\n')\n",
    "    for i in range(len(y_pred)) :\n",
    "        f.write(\"\".join([str(i+1),',',str(y_pred[i]),'\\n']))"
   ]
  },
  {
   "cell_type": "markdown",
   "metadata": {
    "_cell_guid": "580a57a8-c8b2-cb5b-9962-a743f50eb5a4",
    "_uuid": "b2193bbd60507782c482c6964b1aa58cae9614f9"
   },
   "source": [
    "Submitting from this notebook usually gives you a result around 99%, with some randomness depending on weight initialization and test/train data split. I achieved 99.3% by averaging over 5 good runs, and you can get higher than that if you train overnight.\n",
    "\n",
    "If you've successfully come this far, you can now create similar CNN for all kinds of image recognition problems. Good luck!"
   ]
  },
  {
   "cell_type": "code",
   "execution_count": null,
   "metadata": {
    "_cell_guid": "5591673a-99e2-2269-8cc9-55573d49e029",
    "_uuid": "cd13194f2ac2e32aa5dc0dd79505aca3127e94a6"
   },
   "outputs": [],
   "source": []
  }
 ],
 "metadata": {
  "_change_revision": 0,
  "_is_fork": false,
  "kernelspec": {
   "display_name": "Python 2",
   "language": "python",
   "name": "python2"
  },
  "language_info": {
   "codemirror_mode": {
    "name": "ipython",
    "version": 2
   },
   "file_extension": ".py",
   "mimetype": "text/x-python",
   "name": "python",
   "nbconvert_exporter": "python",
   "pygments_lexer": "ipython2",
   "version": "2.7.14"
  }
 },
 "nbformat": 4,
 "nbformat_minor": 1
}
